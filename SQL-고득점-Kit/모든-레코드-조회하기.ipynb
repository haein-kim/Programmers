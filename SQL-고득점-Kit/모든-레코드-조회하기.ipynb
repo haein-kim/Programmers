## 모든 레코드 조회하기

## 답
SELECT *
FROM animal_ins
ORDER BY animal_id
